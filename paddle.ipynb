{
 "cells": [
  {
   "cell_type": "code",
   "execution_count": 1,
   "metadata": {},
   "outputs": [
    {
     "name": "stderr",
     "output_type": "stream",
     "text": [
      "/usr/local/anaconda3/envs/paddle/lib/python3.7/site-packages/paddle/fluid/layers/utils.py:26: DeprecationWarning: `np.int` is a deprecated alias for the builtin `int`. To silence this warning, use `int` by itself. Doing this will not modify any behavior and is safe. When replacing `np.int`, you may wish to use e.g. `np.int64` or `np.int32` to specify the precision. If you wish to review your current use, check the release note link for additional information.\n",
      "Deprecated in NumPy 1.20; for more details and guidance: https://numpy.org/devdocs/release/1.20.0-notes.html#deprecations\n",
      "  def convert_to_list(value, n, name, dtype=np.int):\n"
     ]
    }
   ],
   "source": [
    "import paddlehub as hub"
   ]
  },
  {
   "cell_type": "code",
   "execution_count": 2,
   "metadata": {},
   "outputs": [
    {
     "name": "stderr",
     "output_type": "stream",
     "text": [
      "/usr/local/anaconda3/envs/paddle/lib/python3.7/site-packages/ipykernel/ipkernel.py:287: DeprecationWarning: `should_run_async` will not call `transform_cell` automatically in the future. Please pass the result to `transformed_cell` argument and any exception that happen during thetransform in `preprocessing_exc_tuple` in IPython 7.17 and above.\n",
      "  and should_run_async(code)\n",
      "\u001b[32m[2021-03-18 11:37:33,994] [    INFO] - Installing lda_webpage module\u001b[0m\n",
      "\u001b[32m[2021-03-18 11:37:34,305] [    INFO] - Module lda_webpage already installed in /Users/mac/.paddlehub/modules/lda_webpage\u001b[0m\n",
      "\u001b[32m[2021-03-18 11:37:34,308] [    INFO] - Loading LDA config.\u001b[0m\n",
      "\u001b[32m[2021-03-18 11:37:34,789] [    INFO] - Loading word topic.\u001b[0m\n",
      "100%|██████████| 283750/283750 [00:12<00:00, 22516.37it/s]\n",
      "\u001b[32m[2021-03-18 11:37:47,480] [    INFO] - Model Info: #num_topics=4267 #vocab_size=283827 alpha=0.100000 beta=0.010000\u001b[0m\n",
      "\u001b[32m[2021-03-18 11:37:47,481] [    INFO] - Construct alias table for alias sampling method.\u001b[0m\n",
      "  0%|          | 0/283827 [00:00<?, ?it/s]/Users/mac/.paddlehub/modules/lda_webpage/sampler.py:58: DeprecationWarning: `np.float` is a deprecated alias for the builtin `float`. To silence this warning, use `float` by itself. Doing this will not modify any behavior and is safe. If you specifically wanted the numpy scalar type, use `np.float64` here.\n",
      "Deprecated in NumPy 1.20; for more details and guidance: https://numpy.org/devdocs/release/1.20.0-notes.html#deprecations\n",
      "  dist = np.array(dist, dtype=np.float)\n",
      "100%|██████████| 283827/283827 [00:24<00:00, 11356.83it/s]\n",
      "\u001b[32m[2021-03-18 11:38:13,436] [    INFO] - Installing lac module\u001b[0m\n",
      "\u001b[32m[2021-03-18 11:38:13,440] [    INFO] - Module lac already installed in /Users/mac/.paddlehub/modules/lac\u001b[0m\n",
      "\u001b[32m[2021-03-18 11:38:18,444] [    INFO] - Finish initialization.\u001b[0m\n"
     ]
    }
   ],
   "source": [
    "lda_webpage = hub.Module(name=\"lda_webpage\")"
   ]
  },
  {
   "cell_type": "markdown",
   "metadata": {},
   "source": [
    "cal_doc_distance(doc_text1, doc_text2)\n",
    "用于计算两个输入文档之间的距离，包括Jensen-Shannon divergence(JS散度)、Hellinger Distance(海林格距离)。\n",
    "\n",
    "参数\n",
    "\n",
    "doc_text1(str): 输入的第一个文档。\n",
    "\n",
    "doc_text2(str): 输入的第二个文档。\n",
    "\n",
    "返回\n",
    "\n",
    "jsd(float): 两个文档之间的JS散度(Jensen-Shannon divergence)。\n",
    "\n",
    "hd(float): 两个文档之间的海林格距离(Hellinger Distance)。"
   ]
  },
  {
   "cell_type": "code",
   "execution_count": 4,
   "metadata": {},
   "outputs": [
    {
     "data": {
      "text/plain": [
       "(0.0024880458570954583, 0.05103441247337882)"
      ]
     },
     "execution_count": 4,
     "metadata": {},
     "output_type": "execute_result"
    }
   ],
   "source": [
    "jsd, hd = lda_webpage.cal_doc_distance(doc_text1=\"百度的网页上有着各种新闻的推荐，内容丰富多彩。\", doc_text2=\"百度首页推荐着各种新闻，还提供了强大的搜索引擎功能。\")\n",
    "jsd, hd"
   ]
  },
  {
   "cell_type": "code",
   "execution_count": 5,
   "metadata": {},
   "outputs": [
    {
     "data": {
      "text/plain": [
       "(0.0009805204518993182, 0.03162639758691322)"
      ]
     },
     "execution_count": 5,
     "metadata": {},
     "output_type": "execute_result"
    }
   ],
   "source": [
    "jsd, hd = lda_webpage.cal_doc_distance(doc_text1=\"百度的网页上有着各种新闻的推荐，内容丰富多彩。\", doc_text2=\"百度首页推荐着丰富多彩的新闻\")\n",
    "jsd, hd"
   ]
  },
  {
   "cell_type": "code",
   "execution_count": 8,
   "metadata": {},
   "outputs": [
    {
     "data": {
      "text/plain": [
       "0.02829893461664258"
      ]
     },
     "execution_count": 8,
     "metadata": {},
     "output_type": "execute_result"
    }
   ],
   "source": [
    "out = lda_webpage.cal_query_doc_similarity(query='百度搜索引擎', document='百度是全球最大的中文搜索引擎、致力于让网民更便捷地获取信息，找到所求。百度超过千亿的中文网页数据库，可以瞬间找到相关的搜索结果。')\n",
    "out"
   ]
  },
  {
   "cell_type": "code",
   "execution_count": 9,
   "metadata": {},
   "outputs": [
    {
     "name": "stderr",
     "output_type": "stream",
     "text": [
      "/usr/local/anaconda3/envs/paddle/lib/python3.7/site-packages/ipykernel/ipkernel.py:287: DeprecationWarning: `should_run_async` will not call `transform_cell` automatically in the future. Please pass the result to `transformed_cell` argument and any exception that happen during thetransform in `preprocessing_exc_tuple` in IPython 7.17 and above.\n",
      "  and should_run_async(code)\n"
     ]
    },
    {
     "data": {
      "text/plain": [
       "[{'word': '强大', 'similarity': 0.0838851256627093},\n",
       " {'word': '推荐', 'similarity': 0.06295345182499558},\n",
       " {'word': '新闻', 'similarity': 0.05894049247832139},\n",
       " {'word': '提供', 'similarity': 0.04179908620523299},\n",
       " {'word': '百度', 'similarity': 0.033778847361833536},\n",
       " {'word': '首页', 'similarity': 0.018429949496365026},\n",
       " {'word': '功能', 'similarity': 0.011409342579361237},\n",
       " {'word': '搜索引擎', 'similarity': 0.010392479335778413}]"
      ]
     },
     "execution_count": 9,
     "metadata": {},
     "output_type": "execute_result"
    }
   ],
   "source": [
    "results = lda_webpage.cal_doc_keywords_similarity('百度首页推荐着各种新闻，还提供了强大的搜索引擎功能。')\n",
    "results"
   ]
  },
  {
   "cell_type": "code",
   "execution_count": 10,
   "metadata": {},
   "outputs": [
    {
     "name": "stderr",
     "output_type": "stream",
     "text": [
      "/usr/local/anaconda3/envs/paddle/lib/python3.7/site-packages/ipykernel/ipkernel.py:287: DeprecationWarning: `should_run_async` will not call `transform_cell` automatically in the future. Please pass the result to `transformed_cell` argument and any exception that happen during thetransform in `preprocessing_exc_tuple` in IPython 7.17 and above.\n",
      "  and should_run_async(code)\n"
     ]
    },
    {
     "data": {
      "text/plain": [
       "[{'topic id': 3458, 'distribution': 0.5277777777777778},\n",
       " {'topic id': 1927, 'distribution': 0.17777777777777778},\n",
       " {'topic id': 1497, 'distribution': 0.05},\n",
       " {'topic id': 1901, 'distribution': 0.03333333333333333},\n",
       " {'topic id': 260, 'distribution': 0.022222222222222223},\n",
       " {'topic id': 310, 'distribution': 0.022222222222222223},\n",
       " {'topic id': 407, 'distribution': 0.016666666666666666},\n",
       " {'topic id': 1442, 'distribution': 0.016666666666666666},\n",
       " {'topic id': 2700, 'distribution': 0.016666666666666666},\n",
       " {'topic id': 272, 'distribution': 0.011111111111111112},\n",
       " {'topic id': 2926, 'distribution': 0.011111111111111112},\n",
       " {'topic id': 3939, 'distribution': 0.011111111111111112},\n",
       " {'topic id': 13, 'distribution': 0.005555555555555556},\n",
       " {'topic id': 47, 'distribution': 0.005555555555555556},\n",
       " {'topic id': 941, 'distribution': 0.005555555555555556},\n",
       " {'topic id': 1149, 'distribution': 0.005555555555555556},\n",
       " {'topic id': 1217, 'distribution': 0.005555555555555556},\n",
       " {'topic id': 1430, 'distribution': 0.005555555555555556},\n",
       " {'topic id': 2341, 'distribution': 0.005555555555555556},\n",
       " {'topic id': 2404, 'distribution': 0.005555555555555556},\n",
       " {'topic id': 2405, 'distribution': 0.005555555555555556},\n",
       " {'topic id': 2795, 'distribution': 0.005555555555555556},\n",
       " {'topic id': 3377, 'distribution': 0.005555555555555556},\n",
       " {'topic id': 3640, 'distribution': 0.005555555555555556},\n",
       " {'topic id': 3856, 'distribution': 0.005555555555555556},\n",
       " {'topic id': 4009, 'distribution': 0.005555555555555556},\n",
       " {'topic id': 4111, 'distribution': 0.005555555555555556}]"
      ]
     },
     "execution_count": 10,
     "metadata": {},
     "output_type": "execute_result"
    }
   ],
   "source": [
    "results = lda_webpage.infer_doc_topic_distribution(\"百度文库非常的好用，我们不仅在里面找到需要的文档，同时可以通过续费畅读精品文档。\")\n",
    "results"
   ]
  },
  {
   "cell_type": "code",
   "execution_count": 11,
   "metadata": {},
   "outputs": [
    {
     "name": "stderr",
     "output_type": "stream",
     "text": [
      "/usr/local/anaconda3/envs/paddle/lib/python3.7/site-packages/ipykernel/ipkernel.py:287: DeprecationWarning: `should_run_async` will not call `transform_cell` automatically in the future. Please pass the result to `transformed_cell` argument and any exception that happen during thetransform in `preprocessing_exc_tuple` in IPython 7.17 and above.\n",
      "  and should_run_async(code)\n"
     ]
    },
    {
     "data": {
      "text/plain": [
       "{'price': 0.10977647395316775,\n",
       " '文档': 0.06445075002937038,\n",
       " '财富值': 0.04012675135746289,\n",
       " '文库': 0.03953267826572788,\n",
       " 'len': 0.038856163693739426,\n",
       " 'tag': 0.03868762622172197,\n",
       " 'current': 0.03728225157463761,\n",
       " 'cut': 0.03448665775467454,\n",
       " '尺寸': 0.03250387028891812,\n",
       " '财富': 0.02902896727051734}"
      ]
     },
     "execution_count": 11,
     "metadata": {},
     "output_type": "execute_result"
    }
   ],
   "source": [
    "keywords = lda_webpage.show_topic_keywords(3458)\n",
    "keywords"
   ]
  },
  {
   "cell_type": "code",
   "execution_count": 12,
   "metadata": {},
   "outputs": [
    {
     "data": {
      "text/plain": [
       "{'文档': 0.5222936518045719,\n",
       " '上传': 0.08513719032615964,\n",
       " '背景': 0.06677864519789081,\n",
       " '格式': 0.04806943180486974,\n",
       " '纯色': 0.035272214233499445,\n",
       " '图案': 0.032360721266559464,\n",
       " '日期': 0.0317760183830995,\n",
       " '文献': 0.03173739627662424,\n",
       " '星级': 0.02983493781329299,\n",
       " '文库': 0.021154171775783017}"
      ]
     },
     "execution_count": 12,
     "metadata": {},
     "output_type": "execute_result"
    }
   ],
   "source": [
    "keywords = lda_webpage.show_topic_keywords(1927)\n",
    "keywords"
   ]
  },
  {
   "cell_type": "code",
   "execution_count": null,
   "metadata": {},
   "outputs": [],
   "source": []
  }
 ],
 "metadata": {
  "kernelspec": {
   "display_name": "Python paddle",
   "language": "python",
   "name": "paddle"
  },
  "language_info": {
   "codemirror_mode": {
    "name": "ipython",
    "version": 3
   },
   "file_extension": ".py",
   "mimetype": "text/x-python",
   "name": "python",
   "nbconvert_exporter": "python",
   "pygments_lexer": "ipython3",
   "version": "3.7.9"
  }
 },
 "nbformat": 4,
 "nbformat_minor": 4
}
